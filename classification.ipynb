{
 "cells": [
  {
   "cell_type": "markdown",
   "metadata": {},
   "source": [
    "# Libraries and Formulas"
   ]
  },
  {
   "cell_type": "code",
   "execution_count": 32,
   "metadata": {},
   "outputs": [],
   "source": [
    "#import Libraries\n",
    "\n",
    "import numpy as np #IFYKYK\n",
    "import pandas as pd #IFYKYK\n",
    "import matplotlib.pyplot as plt #visuals\n",
    "import seaborn as sns #visuals\n",
    "import sqlite3 #load data\n",
    "from sqlite3 import Error #load data\n",
    "\n",
    "#modelling Libraries\n",
    "from sklearn.preprocessing import StandardScaler, FunctionTransformer, QuantileTransformer\n",
    "from sklearn.linear_model import LogisticRegression\n",
    "from sklearn.model_selection import train_test_split, cross_val_score, GridSearchCV\n",
    "from sklearn.pipeline import Pipeline\n",
    "from sklearn.metrics import classification_report, confusion_matrix, ConfusionMatrixDisplay, balanced_accuracy_score\n",
    "from sklearn.compose import ColumnTransformer\n",
    "\n"
   ]
  },
  {
   "cell_type": "code",
   "execution_count": 2,
   "metadata": {},
   "outputs": [],
   "source": [
    "#functions \n",
    "\n",
    "#load data\n",
    "def create_connection(path):\n",
    "    connection = None\n",
    "    try:\n",
    "        connection = sqlite3.connect(path)\n",
    "        print(\"Connection to SQLite DB successful\")\n",
    "    except Error as e:\n",
    "        print(f\"The error '{e}' occurred\")\n",
    "\n",
    "    return connection\n",
    "\n",
    "def execute_read_query(connection, query):\n",
    "    cursor = connection.cursor()\n",
    "    result = None\n",
    "    try:\n",
    "        cursor.execute(query)\n",
    "        result = cursor.fetchall()\n",
    "        return result\n",
    "    except Error as e:\n",
    "        print(f\"The error '{e}' occurred\")\n",
    "\n",
    "\n",
    "#declare variables\n",
    "def declare_variables(dataframe, target):\n",
    "    X = dataframe.drop(target, axis=1)\n",
    "    y = dataframe[target]\n",
    "    return X, y\n",
    "\n",
    "#split data - stratify y_var\n",
    "def split_data(X_var, y_var, testing_size):\n",
    "    X_train, X_test, y_train, y_test = train_test_split(X_var, y_var, test_size=testing_size, stratify=y_var)\n",
    "    return X_train, X_test, y_train, y_test\n",
    "\n",
    "\n",
    "#eval models\n",
    "def eval_models(actual_data, predicted_data, train_data=None):\n",
    "    report = classification_report(actual_data, predicted_data)\n",
    "    if train_data == True:\n",
    "        print(f\"Classification Report for the Train model:\")\n",
    "        print(report)\n",
    "    else:\n",
    "        print(f\"Classification report for the Test model:\")\n",
    "        print(report)\n",
    "    "
   ]
  },
  {
   "cell_type": "markdown",
   "metadata": {},
   "source": [
    "# Load Data"
   ]
  },
  {
   "cell_type": "code",
   "execution_count": 3,
   "metadata": {},
   "outputs": [
    {
     "name": "stdout",
     "output_type": "stream",
     "text": [
      "Connection to SQLite DB successful\n"
     ]
    }
   ],
   "source": [
    "#create connection to db\n",
    "connection = create_connection('kickstarter.sqlite')"
   ]
  },
  {
   "cell_type": "code",
   "execution_count": 4,
   "metadata": {},
   "outputs": [
    {
     "data": {
      "text/html": [
       "<div>\n",
       "<style scoped>\n",
       "    .dataframe tbody tr th:only-of-type {\n",
       "        vertical-align: middle;\n",
       "    }\n",
       "\n",
       "    .dataframe tbody tr th {\n",
       "        vertical-align: top;\n",
       "    }\n",
       "\n",
       "    .dataframe thead th {\n",
       "        text-align: right;\n",
       "    }\n",
       "</style>\n",
       "<table border=\"1\" class=\"dataframe\">\n",
       "  <thead>\n",
       "    <tr style=\"text-align: right;\">\n",
       "      <th></th>\n",
       "      <th>Campaign_ID</th>\n",
       "      <th>Launch_Date</th>\n",
       "      <th>End_Date</th>\n",
       "      <th>Goal</th>\n",
       "      <th>Pledged</th>\n",
       "      <th>Num_Donors</th>\n",
       "      <th>Status</th>\n",
       "      <th>Category</th>\n",
       "      <th>Subcategory</th>\n",
       "    </tr>\n",
       "  </thead>\n",
       "  <tbody>\n",
       "    <tr>\n",
       "      <th>0</th>\n",
       "      <td>1</td>\n",
       "      <td>2016-08-11 00:00:00</td>\n",
       "      <td>2016-10-10 00:00:00</td>\n",
       "      <td>100000000</td>\n",
       "      <td>0</td>\n",
       "      <td>0</td>\n",
       "      <td>Failed</td>\n",
       "      <td>Film &amp; Video</td>\n",
       "      <td>Science Fiction</td>\n",
       "    </tr>\n",
       "    <tr>\n",
       "      <th>1</th>\n",
       "      <td>10</td>\n",
       "      <td>2017-08-14 00:00:00</td>\n",
       "      <td>2017-09-13 00:00:00</td>\n",
       "      <td>100000000</td>\n",
       "      <td>1</td>\n",
       "      <td>1</td>\n",
       "      <td>Failed</td>\n",
       "      <td>Film &amp; Video</td>\n",
       "      <td>Film &amp; Video</td>\n",
       "    </tr>\n",
       "    <tr>\n",
       "      <th>2</th>\n",
       "      <td>1000</td>\n",
       "      <td>2016-09-15 00:00:00</td>\n",
       "      <td>2016-11-14 00:00:00</td>\n",
       "      <td>2000000</td>\n",
       "      <td>10462</td>\n",
       "      <td>31</td>\n",
       "      <td>Failed</td>\n",
       "      <td>Design</td>\n",
       "      <td>Design</td>\n",
       "    </tr>\n",
       "    <tr>\n",
       "      <th>3</th>\n",
       "      <td>10000</td>\n",
       "      <td>2013-03-12 00:00:00</td>\n",
       "      <td>2013-04-14 00:00:00</td>\n",
       "      <td>220000</td>\n",
       "      <td>14128</td>\n",
       "      <td>69</td>\n",
       "      <td>Failed</td>\n",
       "      <td>Technology</td>\n",
       "      <td>Technology</td>\n",
       "    </tr>\n",
       "    <tr>\n",
       "      <th>4</th>\n",
       "      <td>100000</td>\n",
       "      <td>2015-05-18 00:00:00</td>\n",
       "      <td>2015-07-17 00:00:00</td>\n",
       "      <td>22000</td>\n",
       "      <td>22223</td>\n",
       "      <td>105</td>\n",
       "      <td>Successful</td>\n",
       "      <td>Film &amp; Video</td>\n",
       "      <td>Narrative Film</td>\n",
       "    </tr>\n",
       "  </tbody>\n",
       "</table>\n",
       "</div>"
      ],
      "text/plain": [
       "  Campaign_ID          Launch_Date             End_Date       Goal  Pledged  \\\n",
       "0           1  2016-08-11 00:00:00  2016-10-10 00:00:00  100000000        0   \n",
       "1          10  2017-08-14 00:00:00  2017-09-13 00:00:00  100000000        1   \n",
       "2        1000  2016-09-15 00:00:00  2016-11-14 00:00:00    2000000    10462   \n",
       "3       10000  2013-03-12 00:00:00  2013-04-14 00:00:00     220000    14128   \n",
       "4      100000  2015-05-18 00:00:00  2015-07-17 00:00:00      22000    22223   \n",
       "\n",
       "   Num_Donors      Status      Category      Subcategory  \n",
       "0           0      Failed  Film & Video  Science Fiction  \n",
       "1           1      Failed  Film & Video     Film & Video  \n",
       "2          31      Failed        Design           Design  \n",
       "3          69      Failed    Technology       Technology  \n",
       "4         105  Successful  Film & Video   Narrative Film  "
      ]
     },
     "execution_count": 4,
     "metadata": {},
     "output_type": "execute_result"
    }
   ],
   "source": [
    "#query db for data - US only because most of data\n",
    "my_query = \"\"\"SELECT Campaign_ID, Launch_Date, End_Date, Goal, Pledged, Num_Donors, Status, Category, Subcategory\n",
    "            FROM Campaigns \n",
    "            INNER JOIN Categories ON Campaigns.Category_ID=Categories.Category_ID\n",
    "            INNER JOIN Subcategories ON Campaigns.Subcategory_ID=Subcategories.Subcategory_ID\n",
    "            INNER JOIN Countries ON Campaigns.Country_ID=Countries.Country_ID\n",
    "            WHERE Project_Country == 'United States of America'\"\"\"\n",
    "\n",
    "#store query results in df\n",
    "data = pd.read_sql_query(my_query, connection)\n",
    "\n",
    "data.head()"
   ]
  },
  {
   "cell_type": "markdown",
   "metadata": {},
   "source": [
    "# Data Preprocessing"
   ]
  },
  {
   "cell_type": "code",
   "execution_count": 5,
   "metadata": {},
   "outputs": [],
   "source": [
    "#Calc Duration in Days\n",
    "#new feature called Duration\n",
    "data['Launch_Date'] = pd.to_datetime(data['Launch_Date']) #convert to dt\n",
    "data['End_Date'] = pd.to_datetime(data['End_Date']) #convert to dt\n",
    "\n",
    "#calc Duration\n",
    "data['Duration (Days)'] = (data['End_Date'] - data['Launch_Date']).dt.days\n",
    "\n",
    "\n",
    "#Chnage Status to 0 and 1 - Cancelled and suspended are considered Failed\n",
    "status_dict = {'Failed': 0, 'Canceled': 0, 'Suspended': 0, 'Successful': 1}\n",
    "\n",
    "data['Status'] = data['Status'].replace(status_dict)\n",
    "\n",
    "#drop Campaign_ID, Launch and End Dates, Category and Subcategory\n",
    "data.drop(['Campaign_ID', 'Launch_Date', 'End_Date', 'Category', 'Subcategory'], axis=1, inplace=True)\n"
   ]
  },
  {
   "cell_type": "markdown",
   "metadata": {},
   "source": [
    "# Declaring Variables and Splitting"
   ]
  },
  {
   "cell_type": "code",
   "execution_count": 6,
   "metadata": {},
   "outputs": [],
   "source": [
    "#declare variables\n",
    "X, y = declare_variables(data, 'Status')\n",
    "\n",
    "#split data y is stratified in the function\n",
    "X_train, X_test, y_train, y_test = split_data(X, y, testing_size=0.3, shuffle=True)"
   ]
  },
  {
   "cell_type": "markdown",
   "metadata": {},
   "source": [
    "# Logistic Regression"
   ]
  },
  {
   "cell_type": "markdown",
   "metadata": {},
   "source": [
    "## Raw Data only - no Transformations"
   ]
  },
  {
   "cell_type": "code",
   "execution_count": 8,
   "metadata": {},
   "outputs": [],
   "source": [
    "#declare pipeline\n",
    "pipeline = Pipeline(steps=[\n",
    "    ('scaler', StandardScaler()),\n",
    "    ('model', LogisticRegression())\n",
    "])"
   ]
  },
  {
   "cell_type": "code",
   "execution_count": 9,
   "metadata": {},
   "outputs": [
    {
     "data": {
      "text/html": [
       "<style>#sk-container-id-1 {color: black;}#sk-container-id-1 pre{padding: 0;}#sk-container-id-1 div.sk-toggleable {background-color: white;}#sk-container-id-1 label.sk-toggleable__label {cursor: pointer;display: block;width: 100%;margin-bottom: 0;padding: 0.3em;box-sizing: border-box;text-align: center;}#sk-container-id-1 label.sk-toggleable__label-arrow:before {content: \"▸\";float: left;margin-right: 0.25em;color: #696969;}#sk-container-id-1 label.sk-toggleable__label-arrow:hover:before {color: black;}#sk-container-id-1 div.sk-estimator:hover label.sk-toggleable__label-arrow:before {color: black;}#sk-container-id-1 div.sk-toggleable__content {max-height: 0;max-width: 0;overflow: hidden;text-align: left;background-color: #f0f8ff;}#sk-container-id-1 div.sk-toggleable__content pre {margin: 0.2em;color: black;border-radius: 0.25em;background-color: #f0f8ff;}#sk-container-id-1 input.sk-toggleable__control:checked~div.sk-toggleable__content {max-height: 200px;max-width: 100%;overflow: auto;}#sk-container-id-1 input.sk-toggleable__control:checked~label.sk-toggleable__label-arrow:before {content: \"▾\";}#sk-container-id-1 div.sk-estimator input.sk-toggleable__control:checked~label.sk-toggleable__label {background-color: #d4ebff;}#sk-container-id-1 div.sk-label input.sk-toggleable__control:checked~label.sk-toggleable__label {background-color: #d4ebff;}#sk-container-id-1 input.sk-hidden--visually {border: 0;clip: rect(1px 1px 1px 1px);clip: rect(1px, 1px, 1px, 1px);height: 1px;margin: -1px;overflow: hidden;padding: 0;position: absolute;width: 1px;}#sk-container-id-1 div.sk-estimator {font-family: monospace;background-color: #f0f8ff;border: 1px dotted black;border-radius: 0.25em;box-sizing: border-box;margin-bottom: 0.5em;}#sk-container-id-1 div.sk-estimator:hover {background-color: #d4ebff;}#sk-container-id-1 div.sk-parallel-item::after {content: \"\";width: 100%;border-bottom: 1px solid gray;flex-grow: 1;}#sk-container-id-1 div.sk-label:hover label.sk-toggleable__label {background-color: #d4ebff;}#sk-container-id-1 div.sk-serial::before {content: \"\";position: absolute;border-left: 1px solid gray;box-sizing: border-box;top: 0;bottom: 0;left: 50%;z-index: 0;}#sk-container-id-1 div.sk-serial {display: flex;flex-direction: column;align-items: center;background-color: white;padding-right: 0.2em;padding-left: 0.2em;position: relative;}#sk-container-id-1 div.sk-item {position: relative;z-index: 1;}#sk-container-id-1 div.sk-parallel {display: flex;align-items: stretch;justify-content: center;background-color: white;position: relative;}#sk-container-id-1 div.sk-item::before, #sk-container-id-1 div.sk-parallel-item::before {content: \"\";position: absolute;border-left: 1px solid gray;box-sizing: border-box;top: 0;bottom: 0;left: 50%;z-index: -1;}#sk-container-id-1 div.sk-parallel-item {display: flex;flex-direction: column;z-index: 1;position: relative;background-color: white;}#sk-container-id-1 div.sk-parallel-item:first-child::after {align-self: flex-end;width: 50%;}#sk-container-id-1 div.sk-parallel-item:last-child::after {align-self: flex-start;width: 50%;}#sk-container-id-1 div.sk-parallel-item:only-child::after {width: 0;}#sk-container-id-1 div.sk-dashed-wrapped {border: 1px dashed gray;margin: 0 0.4em 0.5em 0.4em;box-sizing: border-box;padding-bottom: 0.4em;background-color: white;}#sk-container-id-1 div.sk-label label {font-family: monospace;font-weight: bold;display: inline-block;line-height: 1.2em;}#sk-container-id-1 div.sk-label-container {text-align: center;}#sk-container-id-1 div.sk-container {/* jupyter's `normalize.less` sets `[hidden] { display: none; }` but bootstrap.min.css set `[hidden] { display: none !important; }` so we also need the `!important` here to be able to override the default hidden behavior on the sphinx rendered scikit-learn.org. See: https://github.com/scikit-learn/scikit-learn/issues/21755 */display: inline-block !important;position: relative;}#sk-container-id-1 div.sk-text-repr-fallback {display: none;}</style><div id=\"sk-container-id-1\" class=\"sk-top-container\"><div class=\"sk-text-repr-fallback\"><pre>Pipeline(steps=[(&#x27;scaler&#x27;, StandardScaler()), (&#x27;model&#x27;, LogisticRegression())])</pre><b>In a Jupyter environment, please rerun this cell to show the HTML representation or trust the notebook. <br />On GitHub, the HTML representation is unable to render, please try loading this page with nbviewer.org.</b></div><div class=\"sk-container\" hidden><div class=\"sk-item sk-dashed-wrapped\"><div class=\"sk-label-container\"><div class=\"sk-label sk-toggleable\"><input class=\"sk-toggleable__control sk-hidden--visually\" id=\"sk-estimator-id-1\" type=\"checkbox\" ><label for=\"sk-estimator-id-1\" class=\"sk-toggleable__label sk-toggleable__label-arrow\">Pipeline</label><div class=\"sk-toggleable__content\"><pre>Pipeline(steps=[(&#x27;scaler&#x27;, StandardScaler()), (&#x27;model&#x27;, LogisticRegression())])</pre></div></div></div><div class=\"sk-serial\"><div class=\"sk-item\"><div class=\"sk-estimator sk-toggleable\"><input class=\"sk-toggleable__control sk-hidden--visually\" id=\"sk-estimator-id-2\" type=\"checkbox\" ><label for=\"sk-estimator-id-2\" class=\"sk-toggleable__label sk-toggleable__label-arrow\">StandardScaler</label><div class=\"sk-toggleable__content\"><pre>StandardScaler()</pre></div></div></div><div class=\"sk-item\"><div class=\"sk-estimator sk-toggleable\"><input class=\"sk-toggleable__control sk-hidden--visually\" id=\"sk-estimator-id-3\" type=\"checkbox\" ><label for=\"sk-estimator-id-3\" class=\"sk-toggleable__label sk-toggleable__label-arrow\">LogisticRegression</label><div class=\"sk-toggleable__content\"><pre>LogisticRegression()</pre></div></div></div></div></div></div></div>"
      ],
      "text/plain": [
       "Pipeline(steps=[('scaler', StandardScaler()), ('model', LogisticRegression())])"
      ]
     },
     "execution_count": 9,
     "metadata": {},
     "output_type": "execute_result"
    }
   ],
   "source": [
    "#fit the pipeline\n",
    "pipeline.fit(X_train, y_train)"
   ]
  },
  {
   "cell_type": "code",
   "execution_count": 10,
   "metadata": {},
   "outputs": [],
   "source": [
    "#cross validation\n",
    "cv_scores = cross_val_score(pipeline, X_train, y_train, cv=5)"
   ]
  },
  {
   "cell_type": "code",
   "execution_count": 11,
   "metadata": {},
   "outputs": [
    {
     "name": "stdout",
     "output_type": "stream",
     "text": [
      "Cross-Validation Scores:\n",
      "Fold 1: 0.8725\n",
      "Fold 2: 0.8694\n",
      "Fold 3: 0.8737\n",
      "Fold 4: 0.8724\n",
      "Fold 5: 0.8748\n"
     ]
    }
   ],
   "source": [
    "#eval cross val\n",
    "print(\"Cross-Validation Scores:\")\n",
    "for fold, score in enumerate(cv_scores, start=1):\n",
    "    print(f\"Fold {fold}: {score:.4f}\")"
   ]
  },
  {
   "cell_type": "markdown",
   "metadata": {},
   "source": [
    "Cross val scores are pretty good, let's expand on the model"
   ]
  },
  {
   "cell_type": "code",
   "execution_count": 12,
   "metadata": {},
   "outputs": [],
   "source": [
    "#results on train and test data\n",
    "train_pred = pipeline.predict(X_train)\n",
    "test_pred = pipeline.predict(X_test)"
   ]
  },
  {
   "cell_type": "code",
   "execution_count": 16,
   "metadata": {},
   "outputs": [
    {
     "name": "stdout",
     "output_type": "stream",
     "text": [
      "Classification Report for the Train model:\n",
      "              precision    recall  f1-score   support\n",
      "\n",
      "           0       0.85      0.96      0.91    156930\n",
      "           1       0.93      0.75      0.83    102430\n",
      "\n",
      "    accuracy                           0.88    259360\n",
      "   macro avg       0.89      0.86      0.87    259360\n",
      "weighted avg       0.88      0.88      0.88    259360\n",
      "\n"
     ]
    }
   ],
   "source": [
    "#eval train model\n",
    "eval_models(y_train, train_pred, train_data=True)"
   ]
  },
  {
   "cell_type": "code",
   "execution_count": 17,
   "metadata": {},
   "outputs": [
    {
     "name": "stdout",
     "output_type": "stream",
     "text": [
      "Classification report for the Test model:\n",
      "              precision    recall  f1-score   support\n",
      "\n",
      "           0       0.86      0.96      0.91     67256\n",
      "           1       0.93      0.75      0.83     43899\n",
      "\n",
      "    accuracy                           0.88    111155\n",
      "   macro avg       0.89      0.86      0.87    111155\n",
      "weighted avg       0.89      0.88      0.88    111155\n",
      "\n"
     ]
    }
   ],
   "source": [
    "#eval test model\n",
    "eval_models(y_test, test_pred, train_data=False)"
   ]
  },
  {
   "cell_type": "markdown",
   "metadata": {},
   "source": [
    "Mhmm, the results are almost identical"
   ]
  },
  {
   "cell_type": "markdown",
   "metadata": {},
   "source": [
    "## Logistic Regression + Data transformation (no Binning)"
   ]
  },
  {
   "cell_type": "code",
   "execution_count": 21,
   "metadata": {},
   "outputs": [],
   "source": [
    "#transform data - use function and column transformer\n",
    "\n",
    "#initalize quantiletransformer\n",
    "qt = QuantileTransformer(output_distribution='normal')\n",
    "\n",
    "#functions to use\n",
    "\n",
    "#log transform and account for 0\n",
    "def log_transform(dataframe):\n",
    "    log_value = np.log1p(dataframe)\n",
    "    round_log = log_value.round(0)\n",
    "    return round_log\n",
    "\n",
    "#Quantile Transformer\n",
    "def quantile_transformer(dataframe):\n",
    "    new_data = qt.fit_transform(dataframe)\n",
    "    return new_data\n",
    "\n",
    "#.values.reshape(-1, 1) dont need this as part of quantile transformer\n",
    "\n",
    "#Square root\n",
    "def square_root(dataframe):\n",
    "    my_root = np.sqrt(dataframe).round(2)\n",
    "    return my_root\n"
   ]
  },
  {
   "cell_type": "markdown",
   "metadata": {},
   "source": [
    "let's transform some of the numerical data and reassess the heatmap\n",
    "- Log for Goal\n",
    "- log and quantile transformer for pledged\n",
    "- aquare root and log for Num_donors\n",
    "- quantile transformer Duration"
   ]
  },
  {
   "cell_type": "code",
   "execution_count": 23,
   "metadata": {},
   "outputs": [],
   "source": [
    "#define transformations\n",
    "my_transformations = [\n",
    "    ('log_goal', FunctionTransformer(func=log_transform), ['Goal']),\n",
    "    ('log_pledge', FunctionTransformer(func=log_transform), ['Pledged']),\n",
    "    ('sqrt_donors', FunctionTransformer(func=square_root), ['Num_Donors']),\n",
    "    ('quantile_transform', FunctionTransformer(func=quantile_transformer), ['Goal', 'Pledged', 'Duration (Days)']),\n",
    "    ('log_donors', FunctionTransformer(func=log_transform), ['Num_Donors'])\n",
    "]\n",
    "\n",
    "#create columntransformer\n",
    "ct = ColumnTransformer(transformers=my_transformations)\n"
   ]
  },
  {
   "cell_type": "code",
   "execution_count": 24,
   "metadata": {},
   "outputs": [],
   "source": [
    "#pipeline with transformations\n",
    "pipeline = Pipeline(steps=[\n",
    "  ('column transformer', ct),\n",
    "  ('scaler', StandardScaler()),\n",
    "  ('model', LogisticRegression())  \n",
    "])"
   ]
  },
  {
   "cell_type": "code",
   "execution_count": 25,
   "metadata": {},
   "outputs": [
    {
     "data": {
      "text/html": [
       "<style>#sk-container-id-2 {color: black;}#sk-container-id-2 pre{padding: 0;}#sk-container-id-2 div.sk-toggleable {background-color: white;}#sk-container-id-2 label.sk-toggleable__label {cursor: pointer;display: block;width: 100%;margin-bottom: 0;padding: 0.3em;box-sizing: border-box;text-align: center;}#sk-container-id-2 label.sk-toggleable__label-arrow:before {content: \"▸\";float: left;margin-right: 0.25em;color: #696969;}#sk-container-id-2 label.sk-toggleable__label-arrow:hover:before {color: black;}#sk-container-id-2 div.sk-estimator:hover label.sk-toggleable__label-arrow:before {color: black;}#sk-container-id-2 div.sk-toggleable__content {max-height: 0;max-width: 0;overflow: hidden;text-align: left;background-color: #f0f8ff;}#sk-container-id-2 div.sk-toggleable__content pre {margin: 0.2em;color: black;border-radius: 0.25em;background-color: #f0f8ff;}#sk-container-id-2 input.sk-toggleable__control:checked~div.sk-toggleable__content {max-height: 200px;max-width: 100%;overflow: auto;}#sk-container-id-2 input.sk-toggleable__control:checked~label.sk-toggleable__label-arrow:before {content: \"▾\";}#sk-container-id-2 div.sk-estimator input.sk-toggleable__control:checked~label.sk-toggleable__label {background-color: #d4ebff;}#sk-container-id-2 div.sk-label input.sk-toggleable__control:checked~label.sk-toggleable__label {background-color: #d4ebff;}#sk-container-id-2 input.sk-hidden--visually {border: 0;clip: rect(1px 1px 1px 1px);clip: rect(1px, 1px, 1px, 1px);height: 1px;margin: -1px;overflow: hidden;padding: 0;position: absolute;width: 1px;}#sk-container-id-2 div.sk-estimator {font-family: monospace;background-color: #f0f8ff;border: 1px dotted black;border-radius: 0.25em;box-sizing: border-box;margin-bottom: 0.5em;}#sk-container-id-2 div.sk-estimator:hover {background-color: #d4ebff;}#sk-container-id-2 div.sk-parallel-item::after {content: \"\";width: 100%;border-bottom: 1px solid gray;flex-grow: 1;}#sk-container-id-2 div.sk-label:hover label.sk-toggleable__label {background-color: #d4ebff;}#sk-container-id-2 div.sk-serial::before {content: \"\";position: absolute;border-left: 1px solid gray;box-sizing: border-box;top: 0;bottom: 0;left: 50%;z-index: 0;}#sk-container-id-2 div.sk-serial {display: flex;flex-direction: column;align-items: center;background-color: white;padding-right: 0.2em;padding-left: 0.2em;position: relative;}#sk-container-id-2 div.sk-item {position: relative;z-index: 1;}#sk-container-id-2 div.sk-parallel {display: flex;align-items: stretch;justify-content: center;background-color: white;position: relative;}#sk-container-id-2 div.sk-item::before, #sk-container-id-2 div.sk-parallel-item::before {content: \"\";position: absolute;border-left: 1px solid gray;box-sizing: border-box;top: 0;bottom: 0;left: 50%;z-index: -1;}#sk-container-id-2 div.sk-parallel-item {display: flex;flex-direction: column;z-index: 1;position: relative;background-color: white;}#sk-container-id-2 div.sk-parallel-item:first-child::after {align-self: flex-end;width: 50%;}#sk-container-id-2 div.sk-parallel-item:last-child::after {align-self: flex-start;width: 50%;}#sk-container-id-2 div.sk-parallel-item:only-child::after {width: 0;}#sk-container-id-2 div.sk-dashed-wrapped {border: 1px dashed gray;margin: 0 0.4em 0.5em 0.4em;box-sizing: border-box;padding-bottom: 0.4em;background-color: white;}#sk-container-id-2 div.sk-label label {font-family: monospace;font-weight: bold;display: inline-block;line-height: 1.2em;}#sk-container-id-2 div.sk-label-container {text-align: center;}#sk-container-id-2 div.sk-container {/* jupyter's `normalize.less` sets `[hidden] { display: none; }` but bootstrap.min.css set `[hidden] { display: none !important; }` so we also need the `!important` here to be able to override the default hidden behavior on the sphinx rendered scikit-learn.org. See: https://github.com/scikit-learn/scikit-learn/issues/21755 */display: inline-block !important;position: relative;}#sk-container-id-2 div.sk-text-repr-fallback {display: none;}</style><div id=\"sk-container-id-2\" class=\"sk-top-container\"><div class=\"sk-text-repr-fallback\"><pre>Pipeline(steps=[(&#x27;column transformer&#x27;,\n",
       "                 ColumnTransformer(transformers=[(&#x27;log_goal&#x27;,\n",
       "                                                  FunctionTransformer(func=&lt;function log_transform at 0x7fa2768589a0&gt;),\n",
       "                                                  [&#x27;Goal&#x27;]),\n",
       "                                                 (&#x27;log_pledge&#x27;,\n",
       "                                                  FunctionTransformer(func=&lt;function log_transform at 0x7fa2768589a0&gt;),\n",
       "                                                  [&#x27;Pledged&#x27;]),\n",
       "                                                 (&#x27;sqrt_donors&#x27;,\n",
       "                                                  FunctionTransformer(func=&lt;function square_root at 0x7fa276858a40&gt;),\n",
       "                                                  [&#x27;Num_Donors&#x27;]),\n",
       "                                                 (&#x27;quantile_transform&#x27;,\n",
       "                                                  FunctionTransformer(func=&lt;function quantile_transformer at 0x7fa276858d60&gt;),\n",
       "                                                  [&#x27;Goal&#x27;, &#x27;Pledged&#x27;,\n",
       "                                                   &#x27;Duration (Days)&#x27;]),\n",
       "                                                 (&#x27;log_donors&#x27;,\n",
       "                                                  FunctionTransformer(func=&lt;function log_transform at 0x7fa2768589a0&gt;),\n",
       "                                                  [&#x27;Num_Donors&#x27;])])),\n",
       "                (&#x27;scaler&#x27;, StandardScaler()), (&#x27;model&#x27;, LogisticRegression())])</pre><b>In a Jupyter environment, please rerun this cell to show the HTML representation or trust the notebook. <br />On GitHub, the HTML representation is unable to render, please try loading this page with nbviewer.org.</b></div><div class=\"sk-container\" hidden><div class=\"sk-item sk-dashed-wrapped\"><div class=\"sk-label-container\"><div class=\"sk-label sk-toggleable\"><input class=\"sk-toggleable__control sk-hidden--visually\" id=\"sk-estimator-id-11\" type=\"checkbox\" ><label for=\"sk-estimator-id-11\" class=\"sk-toggleable__label sk-toggleable__label-arrow\">Pipeline</label><div class=\"sk-toggleable__content\"><pre>Pipeline(steps=[(&#x27;column transformer&#x27;,\n",
       "                 ColumnTransformer(transformers=[(&#x27;log_goal&#x27;,\n",
       "                                                  FunctionTransformer(func=&lt;function log_transform at 0x7fa2768589a0&gt;),\n",
       "                                                  [&#x27;Goal&#x27;]),\n",
       "                                                 (&#x27;log_pledge&#x27;,\n",
       "                                                  FunctionTransformer(func=&lt;function log_transform at 0x7fa2768589a0&gt;),\n",
       "                                                  [&#x27;Pledged&#x27;]),\n",
       "                                                 (&#x27;sqrt_donors&#x27;,\n",
       "                                                  FunctionTransformer(func=&lt;function square_root at 0x7fa276858a40&gt;),\n",
       "                                                  [&#x27;Num_Donors&#x27;]),\n",
       "                                                 (&#x27;quantile_transform&#x27;,\n",
       "                                                  FunctionTransformer(func=&lt;function quantile_transformer at 0x7fa276858d60&gt;),\n",
       "                                                  [&#x27;Goal&#x27;, &#x27;Pledged&#x27;,\n",
       "                                                   &#x27;Duration (Days)&#x27;]),\n",
       "                                                 (&#x27;log_donors&#x27;,\n",
       "                                                  FunctionTransformer(func=&lt;function log_transform at 0x7fa2768589a0&gt;),\n",
       "                                                  [&#x27;Num_Donors&#x27;])])),\n",
       "                (&#x27;scaler&#x27;, StandardScaler()), (&#x27;model&#x27;, LogisticRegression())])</pre></div></div></div><div class=\"sk-serial\"><div class=\"sk-item sk-dashed-wrapped\"><div class=\"sk-label-container\"><div class=\"sk-label sk-toggleable\"><input class=\"sk-toggleable__control sk-hidden--visually\" id=\"sk-estimator-id-12\" type=\"checkbox\" ><label for=\"sk-estimator-id-12\" class=\"sk-toggleable__label sk-toggleable__label-arrow\">column transformer: ColumnTransformer</label><div class=\"sk-toggleable__content\"><pre>ColumnTransformer(transformers=[(&#x27;log_goal&#x27;,\n",
       "                                 FunctionTransformer(func=&lt;function log_transform at 0x7fa2768589a0&gt;),\n",
       "                                 [&#x27;Goal&#x27;]),\n",
       "                                (&#x27;log_pledge&#x27;,\n",
       "                                 FunctionTransformer(func=&lt;function log_transform at 0x7fa2768589a0&gt;),\n",
       "                                 [&#x27;Pledged&#x27;]),\n",
       "                                (&#x27;sqrt_donors&#x27;,\n",
       "                                 FunctionTransformer(func=&lt;function square_root at 0x7fa276858a40&gt;),\n",
       "                                 [&#x27;Num_Donors&#x27;]),\n",
       "                                (&#x27;quantile_transform&#x27;,\n",
       "                                 FunctionTransformer(func=&lt;function quantile_transformer at 0x7fa276858d60&gt;),\n",
       "                                 [&#x27;Goal&#x27;, &#x27;Pledged&#x27;, &#x27;Duration (Days)&#x27;]),\n",
       "                                (&#x27;log_donors&#x27;,\n",
       "                                 FunctionTransformer(func=&lt;function log_transform at 0x7fa2768589a0&gt;),\n",
       "                                 [&#x27;Num_Donors&#x27;])])</pre></div></div></div><div class=\"sk-parallel\"><div class=\"sk-parallel-item\"><div class=\"sk-item\"><div class=\"sk-label-container\"><div class=\"sk-label sk-toggleable\"><input class=\"sk-toggleable__control sk-hidden--visually\" id=\"sk-estimator-id-13\" type=\"checkbox\" ><label for=\"sk-estimator-id-13\" class=\"sk-toggleable__label sk-toggleable__label-arrow\">log_goal</label><div class=\"sk-toggleable__content\"><pre>[&#x27;Goal&#x27;]</pre></div></div></div><div class=\"sk-serial\"><div class=\"sk-item\"><div class=\"sk-estimator sk-toggleable\"><input class=\"sk-toggleable__control sk-hidden--visually\" id=\"sk-estimator-id-14\" type=\"checkbox\" ><label for=\"sk-estimator-id-14\" class=\"sk-toggleable__label sk-toggleable__label-arrow\">FunctionTransformer</label><div class=\"sk-toggleable__content\"><pre>FunctionTransformer(func=&lt;function log_transform at 0x7fa2768589a0&gt;)</pre></div></div></div></div></div></div><div class=\"sk-parallel-item\"><div class=\"sk-item\"><div class=\"sk-label-container\"><div class=\"sk-label sk-toggleable\"><input class=\"sk-toggleable__control sk-hidden--visually\" id=\"sk-estimator-id-15\" type=\"checkbox\" ><label for=\"sk-estimator-id-15\" class=\"sk-toggleable__label sk-toggleable__label-arrow\">log_pledge</label><div class=\"sk-toggleable__content\"><pre>[&#x27;Pledged&#x27;]</pre></div></div></div><div class=\"sk-serial\"><div class=\"sk-item\"><div class=\"sk-estimator sk-toggleable\"><input class=\"sk-toggleable__control sk-hidden--visually\" id=\"sk-estimator-id-16\" type=\"checkbox\" ><label for=\"sk-estimator-id-16\" class=\"sk-toggleable__label sk-toggleable__label-arrow\">FunctionTransformer</label><div class=\"sk-toggleable__content\"><pre>FunctionTransformer(func=&lt;function log_transform at 0x7fa2768589a0&gt;)</pre></div></div></div></div></div></div><div class=\"sk-parallel-item\"><div class=\"sk-item\"><div class=\"sk-label-container\"><div class=\"sk-label sk-toggleable\"><input class=\"sk-toggleable__control sk-hidden--visually\" id=\"sk-estimator-id-17\" type=\"checkbox\" ><label for=\"sk-estimator-id-17\" class=\"sk-toggleable__label sk-toggleable__label-arrow\">sqrt_donors</label><div class=\"sk-toggleable__content\"><pre>[&#x27;Num_Donors&#x27;]</pre></div></div></div><div class=\"sk-serial\"><div class=\"sk-item\"><div class=\"sk-estimator sk-toggleable\"><input class=\"sk-toggleable__control sk-hidden--visually\" id=\"sk-estimator-id-18\" type=\"checkbox\" ><label for=\"sk-estimator-id-18\" class=\"sk-toggleable__label sk-toggleable__label-arrow\">FunctionTransformer</label><div class=\"sk-toggleable__content\"><pre>FunctionTransformer(func=&lt;function square_root at 0x7fa276858a40&gt;)</pre></div></div></div></div></div></div><div class=\"sk-parallel-item\"><div class=\"sk-item\"><div class=\"sk-label-container\"><div class=\"sk-label sk-toggleable\"><input class=\"sk-toggleable__control sk-hidden--visually\" id=\"sk-estimator-id-19\" type=\"checkbox\" ><label for=\"sk-estimator-id-19\" class=\"sk-toggleable__label sk-toggleable__label-arrow\">quantile_transform</label><div class=\"sk-toggleable__content\"><pre>[&#x27;Goal&#x27;, &#x27;Pledged&#x27;, &#x27;Duration (Days)&#x27;]</pre></div></div></div><div class=\"sk-serial\"><div class=\"sk-item\"><div class=\"sk-estimator sk-toggleable\"><input class=\"sk-toggleable__control sk-hidden--visually\" id=\"sk-estimator-id-20\" type=\"checkbox\" ><label for=\"sk-estimator-id-20\" class=\"sk-toggleable__label sk-toggleable__label-arrow\">FunctionTransformer</label><div class=\"sk-toggleable__content\"><pre>FunctionTransformer(func=&lt;function quantile_transformer at 0x7fa276858d60&gt;)</pre></div></div></div></div></div></div><div class=\"sk-parallel-item\"><div class=\"sk-item\"><div class=\"sk-label-container\"><div class=\"sk-label sk-toggleable\"><input class=\"sk-toggleable__control sk-hidden--visually\" id=\"sk-estimator-id-21\" type=\"checkbox\" ><label for=\"sk-estimator-id-21\" class=\"sk-toggleable__label sk-toggleable__label-arrow\">log_donors</label><div class=\"sk-toggleable__content\"><pre>[&#x27;Num_Donors&#x27;]</pre></div></div></div><div class=\"sk-serial\"><div class=\"sk-item\"><div class=\"sk-estimator sk-toggleable\"><input class=\"sk-toggleable__control sk-hidden--visually\" id=\"sk-estimator-id-22\" type=\"checkbox\" ><label for=\"sk-estimator-id-22\" class=\"sk-toggleable__label sk-toggleable__label-arrow\">FunctionTransformer</label><div class=\"sk-toggleable__content\"><pre>FunctionTransformer(func=&lt;function log_transform at 0x7fa2768589a0&gt;)</pre></div></div></div></div></div></div></div></div><div class=\"sk-item\"><div class=\"sk-estimator sk-toggleable\"><input class=\"sk-toggleable__control sk-hidden--visually\" id=\"sk-estimator-id-23\" type=\"checkbox\" ><label for=\"sk-estimator-id-23\" class=\"sk-toggleable__label sk-toggleable__label-arrow\">StandardScaler</label><div class=\"sk-toggleable__content\"><pre>StandardScaler()</pre></div></div></div><div class=\"sk-item\"><div class=\"sk-estimator sk-toggleable\"><input class=\"sk-toggleable__control sk-hidden--visually\" id=\"sk-estimator-id-24\" type=\"checkbox\" ><label for=\"sk-estimator-id-24\" class=\"sk-toggleable__label sk-toggleable__label-arrow\">LogisticRegression</label><div class=\"sk-toggleable__content\"><pre>LogisticRegression()</pre></div></div></div></div></div></div></div>"
      ],
      "text/plain": [
       "Pipeline(steps=[('column transformer',\n",
       "                 ColumnTransformer(transformers=[('log_goal',\n",
       "                                                  FunctionTransformer(func=<function log_transform at 0x7fa2768589a0>),\n",
       "                                                  ['Goal']),\n",
       "                                                 ('log_pledge',\n",
       "                                                  FunctionTransformer(func=<function log_transform at 0x7fa2768589a0>),\n",
       "                                                  ['Pledged']),\n",
       "                                                 ('sqrt_donors',\n",
       "                                                  FunctionTransformer(func=<function square_root at 0x7fa276858a40>),\n",
       "                                                  ['Num_Donors']),\n",
       "                                                 ('quantile_transform',\n",
       "                                                  FunctionTransformer(func=<function quantile_transformer at 0x7fa276858d60>),\n",
       "                                                  ['Goal', 'Pledged',\n",
       "                                                   'Duration (Days)']),\n",
       "                                                 ('log_donors',\n",
       "                                                  FunctionTransformer(func=<function log_transform at 0x7fa2768589a0>),\n",
       "                                                  ['Num_Donors'])])),\n",
       "                ('scaler', StandardScaler()), ('model', LogisticRegression())])"
      ]
     },
     "execution_count": 25,
     "metadata": {},
     "output_type": "execute_result"
    }
   ],
   "source": [
    "#fit pipeline\n",
    "pipeline.fit(X_train, y_train)"
   ]
  },
  {
   "cell_type": "code",
   "execution_count": 26,
   "metadata": {},
   "outputs": [],
   "source": [
    "#cross val on the data and model\n",
    "cv_scores = cross_val_score(pipeline, X_train, y_train, cv=5)"
   ]
  },
  {
   "cell_type": "code",
   "execution_count": 27,
   "metadata": {},
   "outputs": [
    {
     "name": "stdout",
     "output_type": "stream",
     "text": [
      "Cross-Validation Scores:\n",
      "Fold 1: 0.9880\n",
      "Fold 2: 0.9895\n",
      "Fold 3: 0.9885\n",
      "Fold 4: 0.9882\n",
      "Fold 5: 0.9887\n"
     ]
    }
   ],
   "source": [
    "#eval cross val\n",
    "print(\"Cross-Validation Scores:\")\n",
    "for fold, score in enumerate(cv_scores, start=1):\n",
    "    print(f\"Fold {fold}: {score:.4f}\")"
   ]
  },
  {
   "cell_type": "markdown",
   "metadata": {},
   "source": [
    "Cross validation scores increased"
   ]
  },
  {
   "cell_type": "code",
   "execution_count": 28,
   "metadata": {},
   "outputs": [],
   "source": [
    "#get prediction\n",
    "train_pred = pipeline.predict(X_train)\n",
    "test_pred = pipeline.predict(X_test)"
   ]
  },
  {
   "cell_type": "code",
   "execution_count": 29,
   "metadata": {},
   "outputs": [
    {
     "name": "stdout",
     "output_type": "stream",
     "text": [
      "Classification Report for the Train model:\n",
      "              precision    recall  f1-score   support\n",
      "\n",
      "           0       1.00      0.98      0.99    156930\n",
      "           1       0.97      1.00      0.98    102430\n",
      "\n",
      "    accuracy                           0.99    259360\n",
      "   macro avg       0.98      0.99      0.99    259360\n",
      "weighted avg       0.99      0.99      0.99    259360\n",
      "\n"
     ]
    }
   ],
   "source": [
    "#eval train\n",
    "eval_models(y_train, train_pred, train_data=True)"
   ]
  },
  {
   "cell_type": "code",
   "execution_count": 33,
   "metadata": {},
   "outputs": [
    {
     "name": "stdout",
     "output_type": "stream",
     "text": [
      "Balanced Accuracy: 0.9896\n"
     ]
    }
   ],
   "source": [
    "balanced_acc = balanced_accuracy_score(y_train, train_pred)\n",
    "print(f\"Balanced Accuracy: {balanced_acc:.4f}\")"
   ]
  },
  {
   "cell_type": "code",
   "execution_count": 31,
   "metadata": {},
   "outputs": [
    {
     "name": "stdout",
     "output_type": "stream",
     "text": [
      "Classification report for the Test model:\n",
      "              precision    recall  f1-score   support\n",
      "\n",
      "           0       1.00      0.98      0.99     67256\n",
      "           1       0.97      1.00      0.98     43899\n",
      "\n",
      "    accuracy                           0.99    111155\n",
      "   macro avg       0.98      0.99      0.99    111155\n",
      "weighted avg       0.99      0.99      0.99    111155\n",
      "\n"
     ]
    }
   ],
   "source": [
    "#eval test data\n",
    "eval_models(y_test, test_pred)"
   ]
  },
  {
   "cell_type": "code",
   "execution_count": 34,
   "metadata": {},
   "outputs": [
    {
     "name": "stdout",
     "output_type": "stream",
     "text": [
      "Balanced Accuracy: 0.9887\n"
     ]
    }
   ],
   "source": [
    "balanced_acc = balanced_accuracy_score(y_test, test_pred)\n",
    "print(f\"Balanced Accuracy: {balanced_acc:.4f}\")"
   ]
  }
 ],
 "metadata": {
  "kernelspec": {
   "display_name": "base",
   "language": "python",
   "name": "python3"
  },
  "language_info": {
   "codemirror_mode": {
    "name": "ipython",
    "version": 3
   },
   "file_extension": ".py",
   "mimetype": "text/x-python",
   "name": "python",
   "nbconvert_exporter": "python",
   "pygments_lexer": "ipython3",
   "version": "3.11.7"
  },
  "orig_nbformat": 4
 },
 "nbformat": 4,
 "nbformat_minor": 2
}
